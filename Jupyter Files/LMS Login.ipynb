{
 "cells": [
  {
   "cell_type": "markdown",
   "metadata": {},
   "source": [
    "# Login into LMS"
   ]
  },
  {
   "cell_type": "code",
   "execution_count": 5,
   "metadata": {},
   "outputs": [
    {
     "name": "stdout",
     "output_type": "stream",
     "text": [
      "Enter in your username: sdev_be18@thapar.edu\n",
      "Enter your password: ········\n"
     ]
    }
   ],
   "source": [
    "from selenium import webdriver\n",
    "from getpass import getpass\n",
    "\n",
    "username = input(\"Enter in your username: \")\n",
    "password = getpass(\"Enter your password: \")\n",
    "\n",
    "lms = webdriver.Chrome(executable_path=\"ChromeDriver/chromedriver.exe\")\n",
    "lms.get(\"https://ada-lms.thapar.edu/moodle/login/index.php\")\n",
    "\n",
    "username_textbox = lms.find_element_by_id(\"username\")\n",
    "username_textbox.send_keys(username)\n",
    "\n",
    "password_textbox = lms.find_element_by_id(\"password\")\n",
    "password_textbox.send_keys(password)\n",
    "\n",
    "login_button = lms.find_element_by_id(\"loginbtn\")\n",
    "login_button.submit()"
   ]
  },
  {
   "cell_type": "markdown",
   "metadata": {},
   "source": [
    "# Navigate to the Course Page"
   ]
  },
  {
   "cell_type": "markdown",
   "metadata": {},
   "source": [
    "## We'll automate almost everything once we get into the basics"
   ]
  },
  {
   "cell_type": "code",
   "execution_count": 6,
   "metadata": {},
   "outputs": [],
   "source": [
    "#lms.get(\"https://ada-lms.thapar.edu/moodle/course/view.php?id=154\")"
   ]
  },
  {
   "cell_type": "code",
   "execution_count": 7,
   "metadata": {},
   "outputs": [
    {
     "name": "stdout",
     "output_type": "stream",
     "text": [
      "[['15:32', '15:33', 'Thursday', 'https://ada-lms.thapar.edu/moodle/course/view.php?id=154'], ['15:34', '15:35', 'Thursday', 'https://ada-lms.thapar.edu/moodle/course/view.php?id=154']]\n"
     ]
    }
   ],
   "source": [
    "import csv\n",
    "\n",
    "with open('Schedule.csv', newline='') as f:\n",
    "    reader = csv.reader(f)\n",
    "    lst = list(reader)\n",
    "lst.remove(lst[0])\n",
    "for i in range(len(lst)):\n",
    "    lst[i].remove(lst[i][0])\n",
    "for j in range(len(lst)):\n",
    "    if lst[j-1][0] == '':\n",
    "        lst.remove(lst[j-1])\n",
    "print(lst)"
   ]
  },
  {
   "cell_type": "code",
   "execution_count": 8,
   "metadata": {},
   "outputs": [],
   "source": [
    "import time\n",
    "from datetime import datetime\n",
    "import calendar\n",
    "my_date = datetime.today()\n",
    "\n",
    "\n",
    "\n",
    "isStarted = False\n",
    "\n",
    "for i in lst:\n",
    "    while True:\n",
    "        if isStarted == False:\n",
    "            if datetime.now().hour == int(i[0].split(':')[0]) and datetime.now().minute == int(i[0].split(':')[1]) and calendar.day_name[my_date.weekday()] == i[2]:\n",
    "                lms.get(i[3])\n",
    "                time.sleep(10)\n",
    "                isStarted = True\n",
    "            else:\n",
    "                lms.get('https://ada-lms.thapar.edu/moodle/my/')\n",
    "        elif isStarted == True:\n",
    "            if datetime.now().hour == int(i[1].split(':')[0]) and datetime.now().minute == int(i[1].split(':')[1]) and calendar.day_name[my_date.weekday()] == i[2]:\n",
    "                time.sleep(1)\n",
    "                isStarted = False\n",
    "                break"
   ]
  },
  {
   "cell_type": "markdown",
   "metadata": {},
   "source": [
    "### We did that because Course Coordinators usually check how often you browse the course page to access the links "
   ]
  },
  {
   "cell_type": "code",
   "execution_count": null,
   "metadata": {},
   "outputs": [],
   "source": []
  },
  {
   "cell_type": "code",
   "execution_count": null,
   "metadata": {},
   "outputs": [],
   "source": []
  }
 ],
 "metadata": {
  "kernelspec": {
   "display_name": "Python 3",
   "language": "python",
   "name": "python3"
  },
  "language_info": {
   "codemirror_mode": {
    "name": "ipython",
    "version": 3
   },
   "file_extension": ".py",
   "mimetype": "text/x-python",
   "name": "python",
   "nbconvert_exporter": "python",
   "pygments_lexer": "ipython3",
   "version": "3.7.6"
  }
 },
 "nbformat": 4,
 "nbformat_minor": 4
}
