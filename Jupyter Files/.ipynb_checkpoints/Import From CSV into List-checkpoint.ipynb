{
 "cells": [
  {
   "cell_type": "code",
   "execution_count": 17,
   "metadata": {},
   "outputs": [
    {
     "name": "stdout",
     "output_type": "stream",
     "text": [
      "[['https://tiet.zoom.us/j/4859929922?_x_zm_rtaid=eimSCaGyQU-MHSD89cTQdw.1596773451370.7e01edc1cfa68d59966f250c5cfef01d&_x_zm_rhtaid=313#', '13:50', '14:40', 'Thursday'], ['https://tiet.zoom.us/j/2155942443?_x_zm_rtaid=eimSCaGyQU-MHSD89cTQdw.1596773451370.7e01edc1cfa68d59966f250c5cfef01d&_x_zm_rhtaid=313#', '14:40', '15:30', 'Thursday'], ['https://tiet.zoom.us/j/5051725143?_x_zm_rtaid=5eekXtdFSdeF8sOUlofvtg.1605756146749.496d7a4000078bc068e685010c55bc72&_x_zm_rhtaid=411#', '15:30', '16:20', 'Thursday']]\n"
     ]
    }
   ],
   "source": [
    "import csv\n",
    "\n",
    "with open('Schedule.csv', newline='') as f:\n",
    "    reader = csv.reader(f)\n",
    "    data = list(reader)\n",
    "data.remove(data[0])\n",
    "for i in range(len(data)):\n",
    "    data[i].remove(data[i][-1])\n",
    "for j in range(len(data)):\n",
    "    if data[j-1][0] == '':\n",
    "        data.remove(data[j-1])\n",
    "print(data)"
   ]
  },
  {
   "cell_type": "code",
   "execution_count": null,
   "metadata": {},
   "outputs": [],
   "source": [
    "from pynotifier import Notification\n",
    "\n",
    "\n",
    "Notification(\n",
    "\ttitle='Notification Title',\n",
    "\tdescription='Notification Description',\n",
    "\ticon_path='path/to/image/file/icon.png', # On Windows .ico is required, on Linux - .png\n",
    "\tduration=5,                              # Duration in seconds\n",
    "\turgency=Notification.URGENCY_CRITICAL\n",
    ").send()"
   ]
  },
  {
   "cell_type": "code",
   "execution_count": null,
   "metadata": {},
   "outputs": [],
   "source": []
  }
 ],
 "metadata": {
  "kernelspec": {
   "display_name": "Python 3",
   "language": "python",
   "name": "python3"
  },
  "language_info": {
   "codemirror_mode": {
    "name": "ipython",
    "version": 3
   },
   "file_extension": ".py",
   "mimetype": "text/x-python",
   "name": "python",
   "nbconvert_exporter": "python",
   "pygments_lexer": "ipython3",
   "version": "3.7.6"
  }
 },
 "nbformat": 4,
 "nbformat_minor": 4
}
