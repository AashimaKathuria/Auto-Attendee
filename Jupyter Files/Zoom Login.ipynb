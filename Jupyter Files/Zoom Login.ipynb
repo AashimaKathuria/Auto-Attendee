{
 "cells": [
  {
   "cell_type": "markdown",
   "metadata": {},
   "source": [
    "# Your Time Table"
   ]
  },
  {
   "cell_type": "code",
   "execution_count": null,
   "metadata": {},
   "outputs": [],
   "source": [
    "import csv\n",
    "\n",
    "with open('Schedule.csv', newline='') as f:\n",
    "    reader = csv.reader(f)\n",
    "    lst = list(reader)\n",
    "lst.remove(lst[0])\n",
    "for i in range(len(lst)):\n",
    "    lst[i].remove(lst[i][-1])\n",
    "for j in range(len(lst)):\n",
    "    if lst[j-1][0] == '':\n",
    "        lst.remove(lst[j-1])\n",
    "print(lst)"
   ]
  },
  {
   "cell_type": "code",
   "execution_count": null,
   "metadata": {},
   "outputs": [],
   "source": [
    "# lst = [\n",
    "#     [\"https://tiet.zoom.us/j/2516810949?_x_zm_rtaid=ZsxlvbvpRsyJg69i_BCMPA.1596249009260.4b795d220418eb53ca1b671b81595cb1&_x_zm_rhtaid=650#\", \"21:57\", \"21:58\", \"Wednesday\"]\n",
    "# ]"
   ]
  },
  {
   "cell_type": "code",
   "execution_count": null,
   "metadata": {},
   "outputs": [],
   "source": [
    "import time\n",
    "from datetime import datetime\n",
    "# from pynput.keyboard import Controller, Key\n",
    "# from data import lst\n",
    "import webbrowser\n",
    "import calendar\n",
    "my_date = datetime.today()\n",
    "\n",
    "# keyboard = Controller()\n",
    "\n",
    "isStarted = False\n",
    "\n",
    "for i in lst:\n",
    "    while True:\n",
    "        if isStarted == False:\n",
    "            if datetime.now().hour == int(i[1].split(':')[0]) and datetime.now().minute == int(i[1].split(':')[1]) and calendar.day_name[my_date.weekday()] == i[3]:\n",
    "                webbrowser.open(i[0])\n",
    "                isStarted = True\n",
    "        elif isStarted == True:\n",
    "            if datetime.now().hour == int(i[2].split(':')[0]) and datetime.now().minute == int(i[2].split(':')[1]) and calendar.day_name[my_date.weekday()] == i[3]:\n",
    "                #keyboard.press('w')\n",
    "                time.sleep(1)\n",
    "                #keyboard.press(Key.enter)\n",
    "                isStarted = False\n",
    "                break"
   ]
  },
  {
   "cell_type": "code",
   "execution_count": null,
   "metadata": {},
   "outputs": [],
   "source": []
  },
  {
   "cell_type": "code",
   "execution_count": null,
   "metadata": {},
   "outputs": [],
   "source": []
  }
 ],
 "metadata": {
  "kernelspec": {
   "display_name": "Python 3",
   "language": "python",
   "name": "python3"
  },
  "language_info": {
   "codemirror_mode": {
    "name": "ipython",
    "version": 3
   },
   "file_extension": ".py",
   "mimetype": "text/x-python",
   "name": "python",
   "nbconvert_exporter": "python",
   "pygments_lexer": "ipython3",
   "version": "3.7.6"
  }
 },
 "nbformat": 4,
 "nbformat_minor": 4
}
