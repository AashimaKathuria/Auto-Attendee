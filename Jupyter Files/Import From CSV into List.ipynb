{
 "cells": [
  {
   "cell_type": "code",
   "execution_count": null,
   "metadata": {},
   "outputs": [],
   "source": [
    "import csv\n",
    "\n",
    "with open('Schedule.csv', newline='') as f:\n",
    "    reader = csv.reader(f)\n",
    "    data = list(reader)\n",
    "data.remove(data[0])\n",
    "for i in range(len(data)):\n",
    "    data[i].remove(data[i][-1])\n",
    "for j in range(len(data)):\n",
    "    if data[j-1][0] == '':\n",
    "        data.remove(data[j-1])\n",
    "print(data)"
   ]
  },
  {
   "cell_type": "code",
   "execution_count": 2,
   "metadata": {},
   "outputs": [],
   "source": [
    "from pynotifier import Notification\n",
    "\n",
    "\n",
    "Notification(\n",
    "\ttitle='You have have a LAB/TUT',\n",
    "\tdescription='Bro, Please Lab/Tut toh laga le!',\n",
    "\ticon_path='winicon.ico', # On Windows .ico is required, on Linux - .png\n",
    "\tduration=20,                              # Duration in seconds\n",
    "\turgency=Notification.URGENCY_CRITICAL\n",
    ").send()"
   ]
  },
  {
   "cell_type": "code",
   "execution_count": 1,
   "metadata": {},
   "outputs": [],
   "source": [
    "from playsound import playsound\n",
    "playsound('Alien_Siren-KevanGC-610357990.mp3')"
   ]
  },
  {
   "cell_type": "code",
   "execution_count": null,
   "metadata": {},
   "outputs": [],
   "source": []
  }
 ],
 "metadata": {
  "kernelspec": {
   "display_name": "Python 3",
   "language": "python",
   "name": "python3"
  },
  "language_info": {
   "codemirror_mode": {
    "name": "ipython",
    "version": 3
   },
   "file_extension": ".py",
   "mimetype": "text/x-python",
   "name": "python",
   "nbconvert_exporter": "python",
   "pygments_lexer": "ipython3",
   "version": "3.7.6"
  }
 },
 "nbformat": 4,
 "nbformat_minor": 4
}
